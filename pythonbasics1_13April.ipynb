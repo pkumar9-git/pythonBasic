{
 "cells": [
  {
   "cell_type": "markdown",
   "id": "9d0a174a",
   "metadata": {},
   "source": [
    "# Python:\n",
    "\n",
    "It is easy to learn, yet a powerful programming language.\n",
    "\n",
    "Free and Open Source Language.\n",
    "\n",
    "It has a vast number of libraries, helps achieve different functionalities.\n",
    "\n",
    "Python has an easy syntax."
   ]
  },
  {
   "cell_type": "code",
   "execution_count": 1,
   "id": "1a41a9e1",
   "metadata": {},
   "outputs": [
    {
     "name": "stdout",
     "output_type": "stream",
     "text": [
      "Hello World!\n"
     ]
    }
   ],
   "source": [
    "print('Hello World!') # Shift + Enter"
   ]
  },
  {
   "cell_type": "code",
   "execution_count": 2,
   "id": "e7d69d0b",
   "metadata": {},
   "outputs": [
    {
     "name": "stdout",
     "output_type": "stream",
     "text": [
      "Display\n"
     ]
    }
   ],
   "source": [
    "print(\"Display\")"
   ]
  },
  {
   "cell_type": "markdown",
   "id": "f3694385",
   "metadata": {},
   "source": [
    "## Comments:\n",
    "\n",
    "Non-executable statements in code."
   ]
  },
  {
   "cell_type": "code",
   "execution_count": 3,
   "id": "fc835c2d",
   "metadata": {},
   "outputs": [
    {
     "name": "stdout",
     "output_type": "stream",
     "text": [
      "My name is Michael!\n"
     ]
    }
   ],
   "source": [
    "print(\"My name is Michael!\") # Single line comment"
   ]
  },
  {
   "cell_type": "code",
   "execution_count": 4,
   "id": "3a3a2fe5",
   "metadata": {},
   "outputs": [],
   "source": [
    "# print(\"Hello\")\n",
    "# print(\"World\")\n",
    "# print(\"!\") # Multiple line comments"
   ]
  },
  {
   "cell_type": "markdown",
   "id": "e1523fe6",
   "metadata": {},
   "source": [
    "## Variables:\n",
    "\n",
    "is just a storing unit. It stores a value.\n",
    "\n",
    "a = 10\n",
    "\n",
    "a = 'Hello'"
   ]
  },
  {
   "cell_type": "code",
   "execution_count": 5,
   "id": "8ab6b5be",
   "metadata": {},
   "outputs": [
    {
     "name": "stdout",
     "output_type": "stream",
     "text": [
      "10\n"
     ]
    }
   ],
   "source": [
    "_a = 10 # Can use _ as special character\n",
    "print(_a)"
   ]
  },
  {
   "cell_type": "code",
   "execution_count": 6,
   "id": "895ddd8d",
   "metadata": {},
   "outputs": [
    {
     "name": "stdout",
     "output_type": "stream",
     "text": [
      "Matthew\n"
     ]
    }
   ],
   "source": [
    "my_name = 'Matthew'\n",
    "print(my_name)"
   ]
  },
  {
   "cell_type": "code",
   "execution_count": 7,
   "id": "08cd655c",
   "metadata": {},
   "outputs": [
    {
     "data": {
      "text/plain": [
       "5"
      ]
     },
     "execution_count": 7,
     "metadata": {},
     "output_type": "execute_result"
    }
   ],
   "source": [
    "a12 = 5 # Can have alpha-numeric values\n",
    "a12"
   ]
  },
  {
   "cell_type": "code",
   "execution_count": 8,
   "id": "b85ddf6a",
   "metadata": {},
   "outputs": [
    {
     "ename": "SyntaxError",
     "evalue": "invalid decimal literal (2750010634.py, line 1)",
     "output_type": "error",
     "traceback": [
      "\u001b[1;36m  Cell \u001b[1;32mIn[8], line 1\u001b[1;36m\u001b[0m\n\u001b[1;33m    1a = 10 # Cannot start with Numbers\u001b[0m\n\u001b[1;37m    ^\u001b[0m\n\u001b[1;31mSyntaxError\u001b[0m\u001b[1;31m:\u001b[0m invalid decimal literal\n"
     ]
    }
   ],
   "source": [
    "1a = 10 # Cannot start with Numbers"
   ]
  },
  {
   "cell_type": "code",
   "execution_count": 9,
   "id": "1a1126c7",
   "metadata": {},
   "outputs": [
    {
     "ename": "SyntaxError",
     "evalue": "invalid decimal literal (4149854945.py, line 1)",
     "output_type": "error",
     "traceback": [
      "\u001b[1;36m  Cell \u001b[1;32mIn[9], line 1\u001b[1;36m\u001b[0m\n\u001b[1;33m    100b = 9\u001b[0m\n\u001b[1;37m      ^\u001b[0m\n\u001b[1;31mSyntaxError\u001b[0m\u001b[1;31m:\u001b[0m invalid decimal literal\n"
     ]
    }
   ],
   "source": [
    "100b = 9"
   ]
  },
  {
   "cell_type": "code",
   "execution_count": 10,
   "id": "342c7050",
   "metadata": {},
   "outputs": [
    {
     "name": "stdout",
     "output_type": "stream",
     "text": [
      "Google\n"
     ]
    }
   ],
   "source": [
    "Ad = 'Google'\n",
    "print(Ad)"
   ]
  },
  {
   "cell_type": "code",
   "execution_count": 11,
   "id": "0a48d1df",
   "metadata": {},
   "outputs": [
    {
     "data": {
      "text/plain": [
       "'Google'"
      ]
     },
     "execution_count": 11,
     "metadata": {},
     "output_type": "execute_result"
    }
   ],
   "source": [
    "Ad"
   ]
  },
  {
   "cell_type": "code",
   "execution_count": 12,
   "id": "99302e76",
   "metadata": {},
   "outputs": [
    {
     "name": "stdout",
     "output_type": "stream",
     "text": [
      "4\n",
      "5\n"
     ]
    }
   ],
   "source": [
    "A12 = 5\n",
    "a12 = 4\n",
    "print(a12)\n",
    "print(A12)"
   ]
  },
  {
   "cell_type": "markdown",
   "id": "021d99a8",
   "metadata": {},
   "source": [
    "## Tokens:\n",
    "\n",
    "Smallest units in Python.\n",
    "\n",
    "4 types:\n",
    "\n",
    "1. Keywords, \n",
    "\n",
    "2. Identifiers,\n",
    "\n",
    "3. Literals,\n",
    "\n",
    "4. Operators."
   ]
  },
  {
   "cell_type": "markdown",
   "id": "b9af1d9a",
   "metadata": {},
   "source": [
    "### Keywords are special reserved words in Python. (Predefined) or they already have a meaning."
   ]
  },
  {
   "cell_type": "code",
   "execution_count": 13,
   "id": "aae00bed",
   "metadata": {},
   "outputs": [
    {
     "name": "stdout",
     "output_type": "stream",
     "text": [
      "Python keywords are:\n",
      "['False', 'None', 'True', 'and', 'as', 'assert', 'async', 'await', 'break', 'class', 'continue', 'def', 'del', 'elif', 'else', 'except', 'finally', 'for', 'from', 'global', 'if', 'import', 'in', 'is', 'lambda', 'nonlocal', 'not', 'or', 'pass', 'raise', 'return', 'try', 'while', 'with', 'yield']\n"
     ]
    }
   ],
   "source": [
    "import keyword\n",
    "print(\"Python keywords are:\")\n",
    "print(keyword.kwlist)"
   ]
  },
  {
   "cell_type": "code",
   "execution_count": 14,
   "id": "c73b0228",
   "metadata": {},
   "outputs": [
    {
     "ename": "SyntaxError",
     "evalue": "cannot assign to False (3690531693.py, line 1)",
     "output_type": "error",
     "traceback": [
      "\u001b[1;36m  Cell \u001b[1;32mIn[14], line 1\u001b[1;36m\u001b[0m\n\u001b[1;33m    False = 0 # Cannot have keywords as a variable name\u001b[0m\n\u001b[1;37m    ^\u001b[0m\n\u001b[1;31mSyntaxError\u001b[0m\u001b[1;31m:\u001b[0m cannot assign to False\n"
     ]
    }
   ],
   "source": [
    "False = 0 # Cannot have keywords as a variable name"
   ]
  },
  {
   "cell_type": "code",
   "execution_count": 15,
   "id": "b86bb061",
   "metadata": {},
   "outputs": [
    {
     "ename": "SyntaxError",
     "evalue": "cannot assign to True (1770609971.py, line 1)",
     "output_type": "error",
     "traceback": [
      "\u001b[1;36m  Cell \u001b[1;32mIn[15], line 1\u001b[1;36m\u001b[0m\n\u001b[1;33m    True = 1\u001b[0m\n\u001b[1;37m    ^\u001b[0m\n\u001b[1;31mSyntaxError\u001b[0m\u001b[1;31m:\u001b[0m cannot assign to True\n"
     ]
    }
   ],
   "source": [
    "True = 1"
   ]
  },
  {
   "cell_type": "code",
   "execution_count": 16,
   "id": "17a2dfa4",
   "metadata": {},
   "outputs": [
    {
     "data": {
      "text/plain": [
       "10"
      ]
     },
     "execution_count": 16,
     "metadata": {},
     "output_type": "execute_result"
    }
   ],
   "source": [
    "true = 10 # Not a keyword, its a variable name\n",
    "true"
   ]
  },
  {
   "cell_type": "code",
   "execution_count": 17,
   "id": "dead5cfc",
   "metadata": {},
   "outputs": [
    {
     "data": {
      "text/plain": [
       "5"
      ]
     },
     "execution_count": 17,
     "metadata": {},
     "output_type": "execute_result"
    }
   ],
   "source": [
    "_False = 5\n",
    "_False"
   ]
  },
  {
   "cell_type": "markdown",
   "id": "d8968d08",
   "metadata": {},
   "source": [
    "## Identifiers:\n",
    "\n",
    "myVariable = 10 (myVariable is the identifier)\n",
    "\n",
    "Rules:\n",
    "\n",
    "1. Special characters that can be used are _ underscore.\n",
    "\n",
    "2. Keywords should not be used as an identifier.\n",
    "\n",
    "3. Python is case-sensitive. (True is a keyword, true is an identifier)\n",
    "\n",
    "4. First character cannot be numbers."
   ]
  },
  {
   "cell_type": "code",
   "execution_count": 18,
   "id": "725fb1fd",
   "metadata": {},
   "outputs": [
    {
     "data": {
      "text/plain": [
       "6"
      ]
     },
     "execution_count": 18,
     "metadata": {},
     "output_type": "execute_result"
    }
   ],
   "source": [
    "_True = 6\n",
    "_True"
   ]
  },
  {
   "cell_type": "code",
   "execution_count": 19,
   "id": "bdb734d7",
   "metadata": {},
   "outputs": [
    {
     "ename": "SyntaxError",
     "evalue": "invalid syntax (3499399659.py, line 1)",
     "output_type": "error",
     "traceback": [
      "\u001b[1;36m  Cell \u001b[1;32mIn[19], line 1\u001b[1;36m\u001b[0m\n\u001b[1;33m    class = 10\u001b[0m\n\u001b[1;37m          ^\u001b[0m\n\u001b[1;31mSyntaxError\u001b[0m\u001b[1;31m:\u001b[0m invalid syntax\n"
     ]
    }
   ],
   "source": [
    "class = 10\n",
    "class # class is a keyword"
   ]
  },
  {
   "cell_type": "code",
   "execution_count": 20,
   "id": "11723f22",
   "metadata": {},
   "outputs": [
    {
     "data": {
      "text/plain": [
       "10"
      ]
     },
     "execution_count": 20,
     "metadata": {},
     "output_type": "execute_result"
    }
   ],
   "source": [
    "Class = 10 # Class is not a keyword, 'class' is a keyword\n",
    "Class"
   ]
  },
  {
   "cell_type": "code",
   "execution_count": 21,
   "id": "9d22a196",
   "metadata": {},
   "outputs": [
    {
     "ename": "SyntaxError",
     "evalue": "invalid decimal literal (905613334.py, line 1)",
     "output_type": "error",
     "traceback": [
      "\u001b[1;36m  Cell \u001b[1;32mIn[21], line 1\u001b[1;36m\u001b[0m\n\u001b[1;33m    4lb = 5\u001b[0m\n\u001b[1;37m    ^\u001b[0m\n\u001b[1;31mSyntaxError\u001b[0m\u001b[1;31m:\u001b[0m invalid decimal literal\n"
     ]
    }
   ],
   "source": [
    "4lb = 5"
   ]
  },
  {
   "cell_type": "code",
   "execution_count": 22,
   "id": "33e50152",
   "metadata": {},
   "outputs": [
    {
     "data": {
      "text/plain": [
       "8"
      ]
     },
     "execution_count": 22,
     "metadata": {},
     "output_type": "execute_result"
    }
   ],
   "source": [
    "_4lb = 8\n",
    "_4lb"
   ]
  },
  {
   "cell_type": "markdown",
   "id": "ab7b0883",
   "metadata": {},
   "source": [
    "## Literals:\n",
    "\n",
    "Raw data that is given to a variable.\n",
    "\n",
    "a = 10 (10 is the literal)\n",
    "\n",
    "There are 4 types:\n",
    "\n",
    "1. String literals: \"Virat Kohli\", '$', 'Hello', \"13/04/2024\"\n",
    "\n",
    "2. Numeric literal: 10, 100(integer), 3.14(float), 4.56\n",
    "\n",
    "3. Boolean literal: True, False\n",
    "\n",
    "4. Special literal: None(value is yet to be assigned)"
   ]
  },
  {
   "cell_type": "code",
   "execution_count": 23,
   "id": "9ca2d182",
   "metadata": {},
   "outputs": [
    {
     "data": {
      "text/plain": [
       "'13/04/2024'"
      ]
     },
     "execution_count": 23,
     "metadata": {},
     "output_type": "execute_result"
    }
   ],
   "source": [
    "date = '13/04/2024' # String literal\n",
    "date"
   ]
  },
  {
   "cell_type": "code",
   "execution_count": 24,
   "id": "b41a0cd7",
   "metadata": {},
   "outputs": [
    {
     "data": {
      "text/plain": [
       "str"
      ]
     },
     "execution_count": 24,
     "metadata": {},
     "output_type": "execute_result"
    }
   ],
   "source": [
    "type(date)"
   ]
  },
  {
   "cell_type": "code",
   "execution_count": 25,
   "id": "63afed6d",
   "metadata": {},
   "outputs": [],
   "source": [
    "v = None # Nothing in v\n",
    "v"
   ]
  },
  {
   "cell_type": "code",
   "execution_count": 26,
   "id": "6b1dae59",
   "metadata": {},
   "outputs": [
    {
     "data": {
      "text/plain": [
       "float"
      ]
     },
     "execution_count": 26,
     "metadata": {},
     "output_type": "execute_result"
    }
   ],
   "source": [
    "a = 3.56 # float-decimal\n",
    "type(a)"
   ]
  },
  {
   "cell_type": "code",
   "execution_count": 27,
   "id": "31ea9af3",
   "metadata": {},
   "outputs": [
    {
     "data": {
      "text/plain": [
       "int"
      ]
     },
     "execution_count": 27,
     "metadata": {},
     "output_type": "execute_result"
    }
   ],
   "source": [
    "a = 20\n",
    "type(a)"
   ]
  },
  {
   "cell_type": "code",
   "execution_count": 29,
   "id": "897b09d5",
   "metadata": {},
   "outputs": [
    {
     "name": "stdout",
     "output_type": "stream",
     "text": [
      "True\n"
     ]
    }
   ],
   "source": [
    "f = True # Boolean literals\n",
    "g = False\n",
    "\n",
    "print(f)"
   ]
  },
  {
   "cell_type": "code",
   "execution_count": 30,
   "id": "a0611b84",
   "metadata": {},
   "outputs": [
    {
     "data": {
      "text/plain": [
       "bool"
      ]
     },
     "execution_count": 30,
     "metadata": {},
     "output_type": "execute_result"
    }
   ],
   "source": [
    "type(f)"
   ]
  },
  {
   "cell_type": "markdown",
   "id": "1beb5bf0",
   "metadata": {},
   "source": [
    "## Operators:\n",
    "\n",
    "used for basic operations in python.\n",
    "\n",
    "1. Arithmetic operators: Mathematical operations."
   ]
  },
  {
   "cell_type": "code",
   "execution_count": 31,
   "id": "365eadd6",
   "metadata": {},
   "outputs": [
    {
     "name": "stdout",
     "output_type": "stream",
     "text": [
      "8\n"
     ]
    }
   ],
   "source": [
    "a = 5\n",
    "b = 3\n",
    "print(a + b)"
   ]
  },
  {
   "cell_type": "code",
   "execution_count": 32,
   "id": "372aa447",
   "metadata": {},
   "outputs": [
    {
     "name": "stdout",
     "output_type": "stream",
     "text": [
      "2\n"
     ]
    }
   ],
   "source": [
    "print(a - b)"
   ]
  },
  {
   "cell_type": "code",
   "execution_count": 33,
   "id": "ed48729c",
   "metadata": {},
   "outputs": [
    {
     "name": "stdout",
     "output_type": "stream",
     "text": [
      "15\n"
     ]
    }
   ],
   "source": [
    "print(a * b)"
   ]
  },
  {
   "cell_type": "code",
   "execution_count": 34,
   "id": "edd9d59b",
   "metadata": {
    "scrolled": true
   },
   "outputs": [
    {
     "name": "stdout",
     "output_type": "stream",
     "text": [
      "1.6666666666666667\n"
     ]
    }
   ],
   "source": [
    "print(a / b)"
   ]
  },
  {
   "cell_type": "code",
   "execution_count": 35,
   "id": "818a24f8",
   "metadata": {},
   "outputs": [
    {
     "name": "stdout",
     "output_type": "stream",
     "text": [
      "1\n"
     ]
    }
   ],
   "source": [
    "print(a // b) # Floor division - removes the decimal part"
   ]
  },
  {
   "cell_type": "code",
   "execution_count": 37,
   "id": "40433869",
   "metadata": {},
   "outputs": [
    {
     "name": "stdout",
     "output_type": "stream",
     "text": [
      "2\n"
     ]
    }
   ],
   "source": [
    "print(5 % 3) # Modulus - remainder"
   ]
  },
  {
   "cell_type": "code",
   "execution_count": 38,
   "id": "85b0cdf2",
   "metadata": {},
   "outputs": [
    {
     "name": "stdout",
     "output_type": "stream",
     "text": [
      "0\n"
     ]
    }
   ],
   "source": [
    "print(8 % 2) # even number divided by 2 gives remainder 0"
   ]
  },
  {
   "cell_type": "code",
   "execution_count": 39,
   "id": "2f42649f",
   "metadata": {},
   "outputs": [
    {
     "name": "stdout",
     "output_type": "stream",
     "text": [
      "64\n"
     ]
    }
   ],
   "source": [
    "print(8 ** 2) # to the power or exponentiation"
   ]
  },
  {
   "cell_type": "code",
   "execution_count": 40,
   "id": "6ff3a181",
   "metadata": {},
   "outputs": [
    {
     "name": "stdout",
     "output_type": "stream",
     "text": [
      "125\n"
     ]
    }
   ],
   "source": [
    "print(5 ** 3)"
   ]
  },
  {
   "cell_type": "markdown",
   "id": "fce9d6f4",
   "metadata": {},
   "source": [
    "2. Assignment operators:"
   ]
  },
  {
   "cell_type": "code",
   "execution_count": 41,
   "id": "ca682dd2",
   "metadata": {},
   "outputs": [
    {
     "data": {
      "text/plain": [
       "5"
      ]
     },
     "execution_count": 41,
     "metadata": {},
     "output_type": "execute_result"
    }
   ],
   "source": [
    "a = 5\n",
    "a"
   ]
  },
  {
   "cell_type": "code",
   "execution_count": 42,
   "id": "1299a13b",
   "metadata": {},
   "outputs": [
    {
     "data": {
      "text/plain": [
       "8"
      ]
     },
     "execution_count": 42,
     "metadata": {},
     "output_type": "execute_result"
    }
   ],
   "source": [
    "# Shorthand operators\n",
    "a += 3 # Adds and assigns, a = a + 3\n",
    "a"
   ]
  },
  {
   "cell_type": "code",
   "execution_count": 44,
   "id": "8bd63217",
   "metadata": {},
   "outputs": [
    {
     "data": {
      "text/plain": [
       "6"
      ]
     },
     "execution_count": 44,
     "metadata": {},
     "output_type": "execute_result"
    }
   ],
   "source": [
    "a -= 2 # a = a - 2\n",
    "a"
   ]
  },
  {
   "cell_type": "code",
   "execution_count": 45,
   "id": "630f39ee",
   "metadata": {},
   "outputs": [
    {
     "name": "stdout",
     "output_type": "stream",
     "text": [
      "3.0\n"
     ]
    }
   ],
   "source": [
    "print(a / 2) # This doesn't change the value as there is no '=' sign"
   ]
  },
  {
   "cell_type": "code",
   "execution_count": 46,
   "id": "85cc2061",
   "metadata": {},
   "outputs": [
    {
     "data": {
      "text/plain": [
       "6"
      ]
     },
     "execution_count": 46,
     "metadata": {},
     "output_type": "execute_result"
    }
   ],
   "source": [
    "a"
   ]
  },
  {
   "cell_type": "markdown",
   "id": "69046d18",
   "metadata": {},
   "source": [
    "3. Comparison Operators: Used to compare two values, returns a boolean value(True or False)."
   ]
  },
  {
   "cell_type": "code",
   "execution_count": 47,
   "id": "3b778d3b",
   "metadata": {},
   "outputs": [],
   "source": [
    "a = 5\n",
    "b = 3"
   ]
  },
  {
   "cell_type": "code",
   "execution_count": 48,
   "id": "73c3ca39",
   "metadata": {},
   "outputs": [
    {
     "name": "stdout",
     "output_type": "stream",
     "text": [
      "True\n"
     ]
    }
   ],
   "source": [
    "print(a > b)"
   ]
  },
  {
   "cell_type": "code",
   "execution_count": 49,
   "id": "67208ca8",
   "metadata": {},
   "outputs": [
    {
     "data": {
      "text/plain": [
       "False"
      ]
     },
     "execution_count": 49,
     "metadata": {},
     "output_type": "execute_result"
    }
   ],
   "source": [
    "a < b"
   ]
  },
  {
   "cell_type": "markdown",
   "id": "ebec4075",
   "metadata": {},
   "source": [
    "= is used for assigning values.\n",
    "\n",
    "== is used for comparison(equality check)."
   ]
  },
  {
   "cell_type": "code",
   "execution_count": 50,
   "id": "b4c6e544",
   "metadata": {},
   "outputs": [
    {
     "data": {
      "text/plain": [
       "False"
      ]
     },
     "execution_count": 50,
     "metadata": {},
     "output_type": "execute_result"
    }
   ],
   "source": [
    "a == b"
   ]
  },
  {
   "cell_type": "code",
   "execution_count": 51,
   "id": "2b8dfc3a",
   "metadata": {},
   "outputs": [
    {
     "data": {
      "text/plain": [
       "True"
      ]
     },
     "execution_count": 51,
     "metadata": {},
     "output_type": "execute_result"
    }
   ],
   "source": [
    "a != b # Not equal to"
   ]
  },
  {
   "cell_type": "code",
   "execution_count": 52,
   "id": "7744bb81",
   "metadata": {},
   "outputs": [
    {
     "name": "stdout",
     "output_type": "stream",
     "text": [
      "True\n"
     ]
    }
   ],
   "source": [
    "print(5 >= 3)"
   ]
  },
  {
   "cell_type": "code",
   "execution_count": 53,
   "id": "7de071ee",
   "metadata": {},
   "outputs": [
    {
     "name": "stdout",
     "output_type": "stream",
     "text": [
      "True\n"
     ]
    }
   ],
   "source": [
    "print(5 >= 5)"
   ]
  },
  {
   "cell_type": "code",
   "execution_count": 54,
   "id": "71bac841",
   "metadata": {},
   "outputs": [
    {
     "name": "stdout",
     "output_type": "stream",
     "text": [
      "True\n"
     ]
    }
   ],
   "source": [
    "print(5 <= 5)"
   ]
  },
  {
   "cell_type": "code",
   "execution_count": 55,
   "id": "a709838e",
   "metadata": {},
   "outputs": [
    {
     "name": "stdout",
     "output_type": "stream",
     "text": [
      "False\n"
     ]
    }
   ],
   "source": [
    "print(5 <= 3)"
   ]
  },
  {
   "cell_type": "markdown",
   "id": "c924daa3",
   "metadata": {},
   "source": [
    "4. Logical Operator: Combines multiple conditions."
   ]
  },
  {
   "cell_type": "code",
   "execution_count": 56,
   "id": "0564bf36",
   "metadata": {},
   "outputs": [],
   "source": [
    "a = True\n",
    "b = False"
   ]
  },
  {
   "cell_type": "code",
   "execution_count": 57,
   "id": "12c8179b",
   "metadata": {},
   "outputs": [
    {
     "name": "stdout",
     "output_type": "stream",
     "text": [
      "False\n"
     ]
    }
   ],
   "source": [
    "print(a and b) # and - multiplication (1 * 0 = 0 => False)"
   ]
  },
  {
   "cell_type": "code",
   "execution_count": 58,
   "id": "af7b267b",
   "metadata": {},
   "outputs": [
    {
     "name": "stdout",
     "output_type": "stream",
     "text": [
      "True\n"
     ]
    }
   ],
   "source": [
    "print(a or b) # or - addition(1 + 0 => 1 = True)"
   ]
  },
  {
   "cell_type": "code",
   "execution_count": 59,
   "id": "358c6e1a",
   "metadata": {},
   "outputs": [
    {
     "data": {
      "text/plain": [
       "True"
      ]
     },
     "execution_count": 59,
     "metadata": {},
     "output_type": "execute_result"
    }
   ],
   "source": [
    "True or True"
   ]
  },
  {
   "cell_type": "code",
   "execution_count": 60,
   "id": "401aaa6e",
   "metadata": {},
   "outputs": [
    {
     "data": {
      "text/plain": [
       "False"
      ]
     },
     "execution_count": 60,
     "metadata": {},
     "output_type": "execute_result"
    }
   ],
   "source": [
    "not a # not - Opposite"
   ]
  },
  {
   "cell_type": "code",
   "execution_count": 61,
   "id": "a43c3ca4",
   "metadata": {},
   "outputs": [
    {
     "data": {
      "text/plain": [
       "True"
      ]
     },
     "execution_count": 61,
     "metadata": {},
     "output_type": "execute_result"
    }
   ],
   "source": [
    "not False"
   ]
  },
  {
   "cell_type": "markdown",
   "id": "ef079f94",
   "metadata": {},
   "source": [
    "5. Identity operator: Used to compare objects.\n",
    "\n",
    "Eg: is, is not"
   ]
  },
  {
   "cell_type": "code",
   "execution_count": 62,
   "id": "7107cc29",
   "metadata": {},
   "outputs": [
    {
     "data": {
      "text/plain": [
       "True"
      ]
     },
     "execution_count": 62,
     "metadata": {},
     "output_type": "execute_result"
    }
   ],
   "source": [
    "x = 10\n",
    "a = x\n",
    "\n",
    "a is x"
   ]
  },
  {
   "cell_type": "code",
   "execution_count": 63,
   "id": "dcf708be",
   "metadata": {},
   "outputs": [
    {
     "data": {
      "text/plain": [
       "True"
      ]
     },
     "execution_count": 63,
     "metadata": {},
     "output_type": "execute_result"
    }
   ],
   "source": [
    "t = 5\n",
    "p = 5\n",
    "t is p"
   ]
  },
  {
   "cell_type": "code",
   "execution_count": 64,
   "id": "fb53c593",
   "metadata": {},
   "outputs": [
    {
     "data": {
      "text/plain": [
       "False"
      ]
     },
     "execution_count": 64,
     "metadata": {},
     "output_type": "execute_result"
    }
   ],
   "source": [
    "t is not p"
   ]
  }
 ],
 "metadata": {
  "kernelspec": {
   "display_name": "Python 3 (ipykernel)",
   "language": "python",
   "name": "python3"
  },
  "language_info": {
   "codemirror_mode": {
    "name": "ipython",
    "version": 3
   },
   "file_extension": ".py",
   "mimetype": "text/x-python",
   "name": "python",
   "nbconvert_exporter": "python",
   "pygments_lexer": "ipython3",
   "version": "3.11.5"
  }
 },
 "nbformat": 4,
 "nbformat_minor": 5
}
