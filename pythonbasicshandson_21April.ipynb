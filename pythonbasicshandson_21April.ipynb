{
 "cells": [
  {
   "cell_type": "markdown",
   "id": "f4a525b8",
   "metadata": {},
   "source": [
    "## Python Basics Handson:"
   ]
  },
  {
   "cell_type": "markdown",
   "id": "8fee9ad9",
   "metadata": {},
   "source": [
    "Create a python if-else program to check if the given numbers are greater or not."
   ]
  },
  {
   "cell_type": "code",
   "execution_count": 1,
   "id": "34d9cba4",
   "metadata": {},
   "outputs": [],
   "source": [
    "# Take a and b as user input"
   ]
  },
  {
   "cell_type": "code",
   "execution_count": 5,
   "id": "60085bf6",
   "metadata": {},
   "outputs": [
    {
     "name": "stdout",
     "output_type": "stream",
     "text": [
      "Enter the first number: 6\n",
      "Enter the second number: 10\n",
      "10 is the greater number\n"
     ]
    }
   ],
   "source": [
    "a = int(input('Enter the first number: '))\n",
    "b = int(input('Enter the second number: '))\n",
    "\n",
    "if a > b:\n",
    "    print(a, 'is the greater number')\n",
    "elif b > a:\n",
    "    print(b, 'is the greater number')\n",
    "else:\n",
    "    print(f'{a} and {b} are equal')"
   ]
  },
  {
   "cell_type": "markdown",
   "id": "453b4dfb",
   "metadata": {},
   "source": [
    "Create a calculator program for addition, subtraction, multiplication and floor division. Take the inputs from the user, and based on the choice of operation, return the results.\n",
    "\n",
    "4 functions\n",
    "\n",
    "a b from user.\n",
    "\n",
    "operation is taken from user (add, sub, mult, div, + , - , * , /)"
   ]
  },
  {
   "cell_type": "code",
   "execution_count": 6,
   "id": "d5974ba9",
   "metadata": {},
   "outputs": [],
   "source": [
    "def add(a, b):\n",
    "    return a + b\n",
    "\n",
    "def sub(a, b):\n",
    "    return a - b\n",
    "\n",
    "def mult(a, b):\n",
    "    return a * b\n",
    "\n",
    "def div(a, b):\n",
    "    return a // b"
   ]
  },
  {
   "cell_type": "code",
   "execution_count": 8,
   "id": "3819be1b",
   "metadata": {},
   "outputs": [],
   "source": [
    "def calculator():\n",
    "    n1 = int(input('Enter first number: '))\n",
    "    n2 = int(input('Enter second number: '))\n",
    "    op = input('Enter operation to perform: ')\n",
    "\n",
    "    if op == '+':\n",
    "        print(add(n1, n2))\n",
    "    elif op == '-':\n",
    "        print(sub(n1, n2))\n",
    "    elif op == '*':\n",
    "        print(mult(n1, n2))\n",
    "    elif op == '/':\n",
    "        print(div(n1, n2))\n",
    "    else:\n",
    "        print('Invalid choice')"
   ]
  },
  {
   "cell_type": "code",
   "execution_count": 9,
   "id": "c39df342",
   "metadata": {},
   "outputs": [
    {
     "name": "stdout",
     "output_type": "stream",
     "text": [
      "Enter first number: 6\n",
      "Enter second number: 7\n",
      "Enter operation to perform: +\n",
      "13\n"
     ]
    }
   ],
   "source": [
    "calculator()"
   ]
  },
  {
   "cell_type": "code",
   "execution_count": 11,
   "id": "d07c5cba",
   "metadata": {},
   "outputs": [
    {
     "name": "stdout",
     "output_type": "stream",
     "text": [
      "Enter first number: 5\n",
      "Enter second number: 6\n",
      "Enter operation to perform: &\n",
      "Invalid choice\n"
     ]
    }
   ],
   "source": [
    "calculator()"
   ]
  },
  {
   "cell_type": "markdown",
   "id": "0251216c",
   "metadata": {},
   "source": [
    "Create a fibonacci sequence using python.\n",
    "\n",
    "0 1 1 2 3 5..."
   ]
  },
  {
   "cell_type": "code",
   "execution_count": 12,
   "id": "64671144",
   "metadata": {},
   "outputs": [
    {
     "name": "stdout",
     "output_type": "stream",
     "text": [
      "Enter number of terms: 6\n",
      "0 1 1 2 3 5 "
     ]
    }
   ],
   "source": [
    "a = 0\n",
    "b = 1\n",
    "\n",
    "n = int(input('Enter number of terms: '))\n",
    "\n",
    "for i in range(0, n):\n",
    "    print(a, end=' ')\n",
    "    c = a + b # 3rd number\n",
    "    # Updating the values\n",
    "    a = b\n",
    "    b = c"
   ]
  },
  {
   "cell_type": "code",
   "execution_count": 16,
   "id": "e5bc2b71",
   "metadata": {},
   "outputs": [
    {
     "name": "stdout",
     "output_type": "stream",
     "text": [
      "How many terms? 10\n",
      "0 1 1 2 3 5 8 13 21 34 "
     ]
    }
   ],
   "source": [
    "n1 = 0\n",
    "n2 = 1\n",
    "n = int(input('How many terms? '))\n",
    "count = 0\n",
    "\n",
    "if n == 1:\n",
    "    print(n1)\n",
    "else:\n",
    "    while count < n:\n",
    "        print(n1, end=' ')\n",
    "        n3 = n1 + n2\n",
    "        n1 = n2\n",
    "        n2 = n3\n",
    "        count += 1"
   ]
  },
  {
   "cell_type": "markdown",
   "id": "5db14638",
   "metadata": {},
   "source": [
    "Check whether the given number is a prime number or not."
   ]
  },
  {
   "cell_type": "code",
   "execution_count": 31,
   "id": "12f663b2",
   "metadata": {},
   "outputs": [
    {
     "name": "stdout",
     "output_type": "stream",
     "text": [
      "Enter number: 14\n",
      "Not a prime number\n"
     ]
    }
   ],
   "source": [
    "n = int(input('Enter number: '))\n",
    "flag = 0\n",
    "\n",
    "for i in range(2, n):\n",
    "    if n % i == 0:\n",
    "        flag = 1 # Not a prime number\n",
    "        break\n",
    "    \n",
    "if flag == 1:\n",
    "    print('Not a prime number')\n",
    "else:\n",
    "    print('Prime number')"
   ]
  },
  {
   "cell_type": "markdown",
   "id": "d9fd4e43",
   "metadata": {},
   "source": [
    "Create two sets and perform the following:\n",
    "\n",
    "a. Union of the two sets\n",
    "\n",
    "b. Intersection of the two sets\n",
    "\n",
    ".union(), .intersection()"
   ]
  },
  {
   "cell_type": "code",
   "execution_count": 33,
   "id": "f515acdf",
   "metadata": {},
   "outputs": [],
   "source": [
    "s1 = {2, 5, 4, 6, 'Python'}\n",
    "s2 = {30, 20, 7, 2, 5, 'Dog'}"
   ]
  },
  {
   "cell_type": "code",
   "execution_count": 34,
   "id": "f2815a76",
   "metadata": {},
   "outputs": [
    {
     "data": {
      "text/plain": [
       "{2, 20, 30, 4, 5, 6, 7, 'Dog', 'Python'}"
      ]
     },
     "execution_count": 34,
     "metadata": {},
     "output_type": "execute_result"
    }
   ],
   "source": [
    "s1.union(s2) # All the unique elements from both sets"
   ]
  },
  {
   "cell_type": "code",
   "execution_count": 35,
   "id": "d5df29ad",
   "metadata": {},
   "outputs": [
    {
     "data": {
      "text/plain": [
       "{2, 5}"
      ]
     },
     "execution_count": 35,
     "metadata": {},
     "output_type": "execute_result"
    }
   ],
   "source": [
    "s1.intersection(s2) # All common values from both sets"
   ]
  },
  {
   "cell_type": "markdown",
   "id": "a30820e3",
   "metadata": {},
   "source": [
    "Create a list of the first 50 even natural numbers, and perform the following operations."
   ]
  },
  {
   "cell_type": "code",
   "execution_count": 36,
   "id": "e7aa987e",
   "metadata": {},
   "outputs": [
    {
     "name": "stdout",
     "output_type": "stream",
     "text": [
      "[2, 4, 6, 8, 10, 12, 14, 16, 18, 20, 22, 24, 26, 28, 30, 32, 34, 36, 38, 40, 42, 44, 46, 48, 50, 52, 54, 56, 58, 60, 62, 64, 66, 68, 70, 72, 74, 76, 78, 80, 82, 84, 86, 88, 90, 92, 94, 96, 98, 100]\n"
     ]
    }
   ],
   "source": [
    "# List comprehension\n",
    "even = [i for i in range(1, 101) if i % 2 == 0]\n",
    "print(even)"
   ]
  },
  {
   "cell_type": "code",
   "execution_count": 37,
   "id": "f9b275e6",
   "metadata": {},
   "outputs": [
    {
     "data": {
      "text/plain": [
       "50"
      ]
     },
     "execution_count": 37,
     "metadata": {},
     "output_type": "execute_result"
    }
   ],
   "source": [
    "len(even)"
   ]
  },
  {
   "cell_type": "code",
   "execution_count": 38,
   "id": "cc6959b1",
   "metadata": {},
   "outputs": [
    {
     "name": "stdout",
     "output_type": "stream",
     "text": [
      "[4, 16, 36, 64, 100, 144, 196, 256, 324, 400, 484, 576, 676, 784, 900, 1024, 1156, 1296, 1444, 1600, 1764, 1936, 2116, 2304, 2500, 2704, 2916, 3136, 3364, 3600, 3844, 4096, 4356, 4624, 4900, 5184, 5476, 5776, 6084, 6400, 6724, 7056, 7396, 7744, 8100, 8464, 8836, 9216, 9604, 10000]\n"
     ]
    }
   ],
   "source": [
    "# Square every number in the list\n",
    "sq = [x**2 for x in even]\n",
    "print(sq)"
   ]
  },
  {
   "cell_type": "code",
   "execution_count": 39,
   "id": "23816283",
   "metadata": {},
   "outputs": [
    {
     "name": "stdout",
     "output_type": "stream",
     "text": [
      "[100, 98, 96, 94, 92, 90, 88, 86, 84, 82, 80, 78, 76, 74, 72, 70, 68, 66, 64, 62, 60, 58, 56, 54, 52, 50, 48, 46, 44, 42, 40, 38, 36, 34, 32, 30, 28, 26, 24, 22, 20, 18, 16, 14, 12, 10, 8, 6, 4, 2]\n"
     ]
    }
   ],
   "source": [
    "# Reverse the list\n",
    "even.reverse() \n",
    "print(even)"
   ]
  },
  {
   "cell_type": "code",
   "execution_count": 40,
   "id": "d2383a1f",
   "metadata": {},
   "outputs": [
    {
     "name": "stdout",
     "output_type": "stream",
     "text": [
      "[2, 4, 6, 8, 10, 12, 14, 16, 18, 20, 22, 24, 26, 28, 30, 32, 34, 36, 38, 40, 42, 44, 46, 48, 50, 52, 54, 56, 58, 60, 62, 64, 66, 68, 70, 72, 74, 76, 78, 80, 82, 84, 86, 88, 90, 92, 94, 96, 98, 100]\n"
     ]
    }
   ],
   "source": [
    "# Sort the list\n",
    "numbers = sorted(even)\n",
    "print(numbers)"
   ]
  },
  {
   "cell_type": "markdown",
   "id": "80c24944",
   "metadata": {},
   "source": [
    "For the given strings A = “Python Programming Language”, B = “Best in the World” , perform the following operations.\n",
    "\n",
    "a. Using indexing operations, get the text “gram” from the string A.\n",
    "\n",
    "b. Using indexing operations, get the text “World” from the string B.\n",
    "\n",
    "c. Change the letters in both strings to Uppercase letters.\n",
    "\n",
    "d. Concatenate the two strings."
   ]
  },
  {
   "cell_type": "code",
   "execution_count": 42,
   "id": "37e8c773",
   "metadata": {},
   "outputs": [],
   "source": [
    "# Try this"
   ]
  }
 ],
 "metadata": {
  "kernelspec": {
   "display_name": "Python 3 (ipykernel)",
   "language": "python",
   "name": "python3"
  },
  "language_info": {
   "codemirror_mode": {
    "name": "ipython",
    "version": 3
   },
   "file_extension": ".py",
   "mimetype": "text/x-python",
   "name": "python",
   "nbconvert_exporter": "python",
   "pygments_lexer": "ipython3",
   "version": "3.11.5"
  }
 },
 "nbformat": 4,
 "nbformat_minor": 5
}
